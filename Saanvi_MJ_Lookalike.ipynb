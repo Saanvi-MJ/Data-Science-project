{
 "cells": [
  {
   "cell_type": "code",
   "execution_count": 9,
   "metadata": {},
   "outputs": [
    {
     "name": "stdout",
     "output_type": "stream",
     "text": [
      "Defaulting to user installation because normal site-packages is not writeable\n",
      "Requirement already satisfied: pandas in c:\\users\\jaggu\\appdata\\roaming\\python\\python310\\site-packages (2.2.3)\n",
      "Requirement already satisfied: numpy in c:\\users\\jaggu\\appdata\\roaming\\python\\python310\\site-packages (1.23.5)\n",
      "Requirement already satisfied: scikit-learn in c:\\users\\jaggu\\appdata\\roaming\\python\\python310\\site-packages (1.1.3)\n",
      "Requirement already satisfied: python-dateutil>=2.8.2 in c:\\users\\jaggu\\appdata\\roaming\\python\\python310\\site-packages (from pandas) (2.8.2)\n",
      "Requirement already satisfied: pytz>=2020.1 in c:\\users\\jaggu\\appdata\\roaming\\python\\python310\\site-packages (from pandas) (2022.7.1)\n",
      "Requirement already satisfied: tzdata>=2022.7 in c:\\users\\jaggu\\appdata\\roaming\\python\\python310\\site-packages (from pandas) (2023.3)\n",
      "Requirement already satisfied: scipy>=1.3.2 in c:\\users\\jaggu\\appdata\\roaming\\python\\python310\\site-packages (from scikit-learn) (1.10.1)\n",
      "Requirement already satisfied: joblib>=1.0.0 in c:\\users\\jaggu\\appdata\\roaming\\python\\python310\\site-packages (from scikit-learn) (1.2.0)\n",
      "Requirement already satisfied: threadpoolctl>=2.0.0 in c:\\users\\jaggu\\appdata\\roaming\\python\\python310\\site-packages (from scikit-learn) (3.2.0)\n",
      "Requirement already satisfied: six>=1.5 in c:\\users\\jaggu\\appdata\\roaming\\python\\python310\\site-packages (from python-dateutil>=2.8.2->pandas) (1.16.0)\n",
      "Note: you may need to restart the kernel to use updated packages.\n"
     ]
    },
    {
     "name": "stderr",
     "output_type": "stream",
     "text": [
      "WARNING: Ignoring invalid distribution -andas (c:\\users\\jaggu\\appdata\\roaming\\python\\python310\\site-packages)\n",
      "WARNING: Ignoring invalid distribution -ensorflow-intel (c:\\users\\jaggu\\appdata\\roaming\\python\\python310\\site-packages)\n",
      "WARNING: Ignoring invalid distribution -andas (c:\\users\\jaggu\\appdata\\roaming\\python\\python310\\site-packages)\n",
      "WARNING: Ignoring invalid distribution -ensorflow-intel (c:\\users\\jaggu\\appdata\\roaming\\python\\python310\\site-packages)\n",
      "WARNING: Ignoring invalid distribution -andas (c:\\users\\jaggu\\appdata\\roaming\\python\\python310\\site-packages)\n",
      "WARNING: Ignoring invalid distribution -ensorflow-intel (c:\\users\\jaggu\\appdata\\roaming\\python\\python310\\site-packages)\n",
      "\n",
      "[notice] A new release of pip is available: 24.2 -> 25.0\n",
      "[notice] To update, run: python.exe -m pip install --upgrade pip\n"
     ]
    }
   ],
   "source": [
    "%pip install pandas numpy scikit-learn"
   ]
  },
  {
   "cell_type": "code",
   "execution_count": 10,
   "metadata": {},
   "outputs": [],
   "source": [
    "# Import required libraries\n",
    "import pandas as pd\n",
    "import numpy as np\n",
    "from sklearn.preprocessing import StandardScaler\n",
    "from sklearn.metrics.pairwise import cosine_similarity"
   ]
  },
  {
   "cell_type": "code",
   "execution_count": 11,
   "metadata": {},
   "outputs": [
    {
     "name": "stdout",
     "output_type": "stream",
     "text": [
      "Merged Data:\n",
      "  TransactionID CustomerID ProductID      TransactionDate  Quantity  \\\n",
      "0        T00001      C0199      P067  2024-08-25 12:38:23         1   \n",
      "1        T00112      C0146      P067  2024-05-27 22:23:54         1   \n",
      "2        T00166      C0127      P067  2024-04-25 07:38:55         1   \n",
      "3        T00272      C0087      P067  2024-03-26 22:55:37         2   \n",
      "4        T00363      C0070      P067  2024-03-21 15:10:10         3   \n",
      "\n",
      "   TotalValue  Price_x     CustomerName         Region  SignupDate  \\\n",
      "0      300.68   300.68   Andrea Jenkins         Europe  2022-12-03   \n",
      "1      300.68   300.68  Brittany Harvey           Asia  2024-09-04   \n",
      "2      300.68   300.68  Kathryn Stevens         Europe  2024-04-04   \n",
      "3      601.36   300.68  Travis Campbell  South America  2024-04-11   \n",
      "4      902.04   300.68    Timothy Perez         Europe  2022-03-15   \n",
      "\n",
      "                       ProductName     Category  Price_y  \n",
      "0  ComfortLiving Bluetooth Speaker  Electronics   300.68  \n",
      "1  ComfortLiving Bluetooth Speaker  Electronics   300.68  \n",
      "2  ComfortLiving Bluetooth Speaker  Electronics   300.68  \n",
      "3  ComfortLiving Bluetooth Speaker  Electronics   300.68  \n",
      "4  ComfortLiving Bluetooth Speaker  Electronics   300.68  \n"
     ]
    }
   ],
   "source": [
    "# Load datasets\n",
    "customers = pd.read_csv(\"Customers.csv\")\n",
    "products = pd.read_csv(\"Products.csv\")\n",
    "transactions = pd.read_csv(\"Transactions.csv\")\n",
    "\n",
    "# Merge datasets to form a comprehensive dataset\n",
    "merged_data = transactions.merge(customers, on=\"CustomerID\", how=\"left\").merge(products, on=\"ProductID\", how=\"left\")\n",
    "\n",
    "# Display the merged data structure\n",
    "print(\"Merged Data:\")\n",
    "print(merged_data.head())"
   ]
  },
  {
   "cell_type": "code",
   "execution_count": 16,
   "metadata": {},
   "outputs": [
    {
     "name": "stdout",
     "output_type": "stream",
     "text": [
      "Customer Features (after processing):\n",
      "  CustomerID  TotalValue  Quantity   Price_x  Category_Clothing  \\\n",
      "0      C0001   -0.061701 -0.122033  0.094670              False   \n",
      "1      C0002   -0.877744 -0.448000 -0.904016               True   \n",
      "2      C0003   -0.405857  0.203934 -1.094109              False   \n",
      "3      C0004    1.032547  1.670787 -0.447702              False   \n",
      "4      C0005   -0.783929 -0.936951  0.285581              False   \n",
      "\n",
      "   Category_Electronics  Category_Home Decor  Region_Europe  \\\n",
      "0                  True                False          False   \n",
      "1                 False                False          False   \n",
      "2                 False                 True          False   \n",
      "3                 False                False          False   \n",
      "4                  True                False          False   \n",
      "\n",
      "   Region_North America  Region_South America  \n",
      "0                 False                  True  \n",
      "1                 False                 False  \n",
      "2                 False                  True  \n",
      "3                 False                  True  \n",
      "4                 False                 False  \n"
     ]
    }
   ],
   "source": [
    "# Aggregate transaction and customer-level features\n",
    "customer_features = merged_data.groupby(\"CustomerID\").agg({\n",
    "    \"TotalValue\": \"sum\",  \n",
    "    \"Quantity\": \"sum\",   \n",
    "    \"Price_x\": \"mean\",      \n",
    "    \"Category\": lambda x: x.mode()[0] if not x.mode().empty else \"Unknown\",  \n",
    "    \"Region\": \"first\"     \n",
    "}).reset_index()\n",
    "\n",
    "customer_features = pd.get_dummies(customer_features, columns=[\"Category\", \"Region\"], drop_first=True)\n",
    "\n",
    "scaler = StandardScaler()\n",
    "numerical_cols = [\"TotalValue\", \"Quantity\", \"Price_x\"]\n",
    "customer_features[numerical_cols] = scaler.fit_transform(customer_features[numerical_cols])\n",
    "\n",
    "print(\"Customer Features (after processing):\")\n",
    "print(customer_features.head())"
   ]
  },
  {
   "cell_type": "code",
   "execution_count": 17,
   "metadata": {},
   "outputs": [
    {
     "name": "stdout",
     "output_type": "stream",
     "text": [
      "Similarity Matrix:\n",
      "CustomerID     C0001     C0002     C0003     C0004     C0005     C0006  \\\n",
      "CustomerID                                                               \n",
      "C0001       1.000000  0.009776  0.341298  0.215460  0.520779  0.540162   \n",
      "C0002       0.009776  1.000000  0.407057 -0.332868  0.317156 -0.470541   \n",
      "C0003       0.341298  0.407057  1.000000  0.340197 -0.062630 -0.055488   \n",
      "C0004       0.215460 -0.332868  0.340197  1.000000 -0.693617  0.267270   \n",
      "C0005       0.520779  0.317156 -0.062630 -0.693617  1.000000  0.016110   \n",
      "\n",
      "CustomerID     C0007     C0008     C0009     C0010  ...     C0191     C0192  \\\n",
      "CustomerID                                          ...                       \n",
      "C0001       0.490787 -0.080280  0.086452 -0.025414  ...  0.690983  0.845277   \n",
      "C0002      -0.083328 -0.117085  0.602212  0.851661  ...  0.112950  0.276806   \n",
      "C0003      -0.367070  0.465148 -0.037727  0.500034  ...  0.433279  0.279602   \n",
      "C0004      -0.580216  0.603312 -0.737951 -0.078958  ...  0.075942 -0.290539   \n",
      "C0005       0.858928 -0.508950  0.652990  0.097486  ...  0.296394  0.826976   \n",
      "\n",
      "CustomerID     C0193     C0194     C0195     C0196     C0197     C0198  \\\n",
      "CustomerID                                                               \n",
      "C0001       0.069002 -0.046497  0.349312  0.042675  0.400277  0.064168   \n",
      "C0002       0.684708  0.026177 -0.030327 -0.577091  0.510543  0.776414   \n",
      "C0003       0.235748  0.173852  0.835987 -0.335917  0.266916  0.156131   \n",
      "C0004      -0.762946  0.294217  0.714090 -0.047391 -0.381001 -0.668518   \n",
      "C0005       0.673875 -0.263804 -0.385793  0.014341  0.683000  0.590323   \n",
      "\n",
      "CustomerID     C0199     C0200  \n",
      "CustomerID                      \n",
      "C0001       0.435155 -0.037909  \n",
      "C0002       0.427695 -0.077782  \n",
      "C0003       0.165062 -0.223079  \n",
      "C0004      -0.433671  0.468624  \n",
      "C0005       0.748389 -0.428177  \n",
      "\n",
      "[5 rows x 199 columns]\n"
     ]
    }
   ],
   "source": [
    "\n",
    "similarity_matrix = cosine_similarity(customer_features.drop(\"CustomerID\", axis=1))\n",
    "\n",
    "similarity_df = pd.DataFrame(similarity_matrix, index=customer_features[\"CustomerID\"], columns=customer_features[\"CustomerID\"])\n",
    "\n",
    "print(\"Similarity Matrix:\")\n",
    "print(similarity_df.head())"
   ]
  },
  {
   "cell_type": "code",
   "execution_count": 18,
   "metadata": {},
   "outputs": [
    {
     "name": "stdout",
     "output_type": "stream",
     "text": [
      "Lookalike Data:\n",
      "  cust_id similar_cust_id     score\n",
      "0   C0001           C0181  0.934652\n",
      "1   C0001           C0120  0.897531\n",
      "2   C0001           C0184  0.864073\n",
      "3   C0002           C0088  0.984787\n",
      "4   C0002           C0077  0.900746\n"
     ]
    }
   ],
   "source": [
    "\n",
    "target_customers = customers.loc[customers[\"CustomerID\"].isin([f\"C{str(i).zfill(4)}\" for i in range(1, 21)]), \"CustomerID\"]\n",
    "\n",
    "lookalike_map = {}\n",
    "for customer in target_customers:\n",
    "    similar_customers = similarity_df[customer].sort_values(ascending=False).iloc[1:4]  \n",
    "    lookalike_map[customer] = list(zip(similar_customers.index, similar_customers.values))\n",
    "\n",
    "lookalike_data = []\n",
    "for cust_id, lookalikes in lookalike_map.items():\n",
    "    for similar_cust, score in lookalikes:\n",
    "        lookalike_data.append({\"cust_id\": cust_id, \"similar_cust_id\": similar_cust, \"score\": score})\n",
    "\n",
    "lookalike_df = pd.DataFrame(lookalike_data)\n",
    "lookalike_df.to_csv(\"Lookalike.csv\", index=False)\n",
    "\n",
    "print(\"Lookalike Data:\")\n",
    "print(lookalike_df.head())"
   ]
  },
  {
   "cell_type": "code",
   "execution_count": null,
   "metadata": {},
   "outputs": [],
   "source": []
  }
 ],
 "metadata": {
  "kernelspec": {
   "display_name": "Python 3",
   "language": "python",
   "name": "python3"
  },
  "language_info": {
   "codemirror_mode": {
    "name": "ipython",
    "version": 3
   },
   "file_extension": ".py",
   "mimetype": "text/x-python",
   "name": "python",
   "nbconvert_exporter": "python",
   "pygments_lexer": "ipython3",
   "version": "3.10.7"
  }
 },
 "nbformat": 4,
 "nbformat_minor": 4
}
