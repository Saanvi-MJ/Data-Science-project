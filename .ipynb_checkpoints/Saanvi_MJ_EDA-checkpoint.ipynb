{
 "cells": [
  {
   "cell_type": "code",
   "execution_count": null,
   "metadata": {},
   "outputs": [],
   "source": [
    "%pip install pandas numpy matplotlib seaborn"
   ]
  },
  {
   "cell_type": "code",
   "execution_count": null,
   "metadata": {},
   "outputs": [],
   "source": [
    "# Importing required libraries\n",
    "import pandas as pd\n",
    "import numpy as np\n",
    "import matplotlib.pyplot as plt\n",
    "import seaborn as sns\n",
    "from datetime import datetime\n",
    "\n",
    "# Load datasets\n",
    "customers = pd.read_csv(\"Customers.csv\")\n",
    "products = pd.read_csv(\"Products.csv\")\n",
    "transactions = pd.read_csv(\"Transactions.csv\")\n",
    "\n",
    "# Display the first few rows of each dataset\n",
    "print(\"Customers Dataset:\")\n",
    "print(customers.head())\n",
    "\n",
    "print(\"\\nProducts Dataset:\")\n",
    "print(products.head())\n",
    "\n",
    "print(\"\\nTransactions Dataset:\")\n",
    "print(transactions.head())"
   ]
  },
  {
   "cell_type": "code",
   "execution_count": null,
   "metadata": {},
   "outputs": [],
   "source": [
    "# Check dataset information\n",
    "print(\"Customers Info:\")\n",
    "print(customers.info())\n",
    "\n",
    "print(\"\\nProducts Info:\")\n",
    "print(products.info())\n",
    "\n",
    "print(\"\\nTransactions Info:\")\n",
    "print(transactions.info())\n",
    "\n",
    "# Check for missing values\n",
    "print(\"\\nMissing Values:\")\n",
    "print(\"Customers:\\n\", customers.isnull().sum())\n",
    "print(\"\\nProducts:\\n\", products.isnull().sum())\n",
    "print(\"\\nTransactions:\\n\", transactions.isnull().sum())"
   ]
  },
  {
   "cell_type": "code",
   "execution_count": null,
   "metadata": {},
   "outputs": [],
   "source": [
    "# Convert date columns to datetime\n",
    "customers['SignupDate'] = pd.to_datetime(customers['SignupDate'])\n",
    "transactions['TransactionDate'] = pd.to_datetime(transactions['TransactionDate'])\n",
    "\n",
    "# Verify data types after conversion\n",
    "print(\"\\nData types after conversion:\")\n",
    "print(customers.dtypes)\n",
    "print(transactions.dtypes)\n",
    "\n",
    "# Check for duplicates\n",
    "print(\"\\nDuplicates:\")\n",
    "print(\"Customers:\", customers.duplicated().sum())\n",
    "print(\"Products:\", products.duplicated().sum())\n",
    "print(\"Transactions:\", transactions.duplicated().sum())"
   ]
  },
  {
   "cell_type": "code",
   "execution_count": null,
   "metadata": {},
   "outputs": [],
   "source": [
    "# Merge datasets for comprehensive analysis\n",
    "merged_data = transactions.merge(customers, on='CustomerID', how='left').merge(products, on='ProductID', how='left')\n",
    "\n",
    "# Display the merged dataset\n",
    "print(\"\\nMerged Dataset:\")\n",
    "print(merged_data.head())"
   ]
  },
  {
   "cell_type": "code",
   "execution_count": null,
   "metadata": {},
   "outputs": [],
   "source": [
    "# Descriptive statistics for numerical columns\n",
    "print(\"\\nSummary Statistics:\")\n",
    "print(merged_data.describe())\n",
    "\n",
    "# Count of unique customers, products, and transactions\n",
    "print(\"\\nUnique Counts:\")\n",
    "print(\"Unique Customers:\", merged_data['CustomerID'].nunique())\n",
    "print(\"Unique Products:\", merged_data['ProductID'].nunique())\n",
    "print(\"Total Transactions:\", merged_data['TransactionID'].nunique())"
   ]
  },
  {
   "cell_type": "code",
   "execution_count": null,
   "metadata": {},
   "outputs": [],
   "source": [
    "# Visualization 1: Customer distribution by region\n",
    "plt.figure(figsize=(8, 5))\n",
    "sns.countplot(data=customers, x='Region', order=customers['Region'].value_counts().index)\n",
    "plt.title('Customer Distribution by Region')\n",
    "plt.xlabel('Region')\n",
    "plt.ylabel('Count')\n",
    "plt.show()\n",
    "\n",
    "# Visualization 2: Most popular product categories\n",
    "plt.figure(figsize=(8, 5))\n",
    "sns.countplot(data=products, y='Category', order=products['Category'].value_counts().index)\n",
    "plt.title('Most Popular Product Categories')\n",
    "plt.xlabel('Count')\n",
    "plt.ylabel('Category')\n",
    "plt.show()\n",
    "\n",
    "# Visualization 3: Sales trend over time\n",
    "merged_data['MonthYear'] = merged_data['TransactionDate'].dt.to_period('M')\n",
    "sales_trend = merged_data.groupby('MonthYear')['TotalValue'].sum()\n",
    "sales_trend.plot(kind='line', figsize=(10, 5), marker='o', title='Sales Trend Over Time')\n",
    "plt.xlabel('Month-Year')\n",
    "plt.ylabel('Total Sales (USD)')\n",
    "plt.grid()\n",
    "plt.show()\n",
    "\n",
    "# Visualization 4: Top 10 customers by spending\n",
    "top_customers = merged_data.groupby('CustomerName')['TotalValue'].sum().nlargest(10)\n",
    "top_customers.plot(kind='barh', figsize=(8, 5), title='Top 10 Customers by Spending')\n",
    "plt.xlabel('Total Spending (USD)')\n",
    "plt.ylabel('Customer Name')\n",
    "plt.show()\n",
    "\n",
    "# Visualization 5: Top 10 products by sales\n",
    "top_products = merged_data.groupby('ProductName')['TotalValue'].sum().nlargest(10)\n",
    "top_products.plot(kind='barh', figsize=(8, 5), title='Top 10 Products by Sales')\n",
    "plt.xlabel('Total Sales (USD)')\n",
    "plt.ylabel('Product Name')\n",
    "plt.show()"
   ]
  }
 ],
 "metadata": {
  "kernelspec": {
   "display_name": "Python 3",
   "language": "python",
   "name": "python3"
  },
  "language_info": {
   "name": "python",
   "version": "3.11.4"
  }
 },
 "nbformat": 4,
 "nbformat_minor": 2
}
