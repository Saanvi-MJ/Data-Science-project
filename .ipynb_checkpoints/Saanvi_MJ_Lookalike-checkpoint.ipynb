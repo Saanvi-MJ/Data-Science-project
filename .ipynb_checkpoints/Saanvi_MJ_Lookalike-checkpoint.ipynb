{
 "cells": [
  {
   "cell_type": "code",
   "execution_count": null,
   "metadata": {},
   "outputs": [],
   "source": [
    "%pip install pandas numpy scikit-learn"
   ]
  },
  {
   "cell_type": "code",
   "execution_count": null,
   "metadata": {},
   "outputs": [],
   "source": [
    "# Import required libraries\n",
    "import pandas as pd\n",
    "import numpy as np\n",
    "from sklearn.preprocessing import StandardScaler\n",
    "from sklearn.metrics.pairwise import cosine_similarity"
   ]
  },
  {
   "cell_type": "code",
   "execution_count": null,
   "metadata": {},
   "outputs": [],
   "source": [
    "# Load datasets\n",
    "customers = pd.read_csv(\"Customers.csv\")\n",
    "products = pd.read_csv(\"Products.csv\")\n",
    "transactions = pd.read_csv(\"Transactions.csv\")\n",
    "\n",
    "# Merge datasets to form a comprehensive dataset\n",
    "merged_data = transactions.merge(customers, on=\"CustomerID\", how=\"left\").merge(products, on=\"ProductID\", how=\"left\")\n",
    "\n",
    "# Display the merged data structure\n",
    "print(\"Merged Data:\")\n",
    "print(merged_data.head())"
   ]
  },
  {
   "cell_type": "code",
   "execution_count": null,
   "metadata": {},
   "outputs": [],
   "source": [
    "# Aggregate transaction and customer-level features\n",
    "customer_features = merged_data.groupby(\"CustomerID\").agg({\n",
    "    \"TotalValue\": \"sum\",  # Total spending\n",
    "    \"Quantity\": \"sum\",    # Total quantity purchased\n",
    "    \"Price\": \"mean\",      # Average product price\n",
    "    \"Category\": lambda x: x.mode()[0] if not x.mode().empty else \"Unknown\",  # Most purchased category\n",
    "    \"Region\": \"first\"     # Region (from Customers.csv)\n",
    "}).reset_index()\n",
    "\n",
    "# One-hot encode categorical columns\n",
    "customer_features = pd.get_dummies(customer_features, columns=[\"Category\", \"Region\"], drop_first=True)\n",
    "\n",
    "# Standardize numerical features\n",
    "scaler = StandardScaler()\n",
    "numerical_cols = [\"TotalValue\", \"Quantity\", \"Price\"]\n",
    "customer_features[numerical_cols] = scaler.fit_transform(customer_features[numerical_cols])\n",
    "\n",
    "# Display the prepared features\n",
    "print(\"Customer Features (after processing):\")\n",
    "print(customer_features.head())"
   ]
  },
  {
   "cell_type": "code",
   "execution_count": null,
   "metadata": {},
   "outputs": [],
   "source": [
    "# Compute cosine similarity between customers\n",
    "similarity_matrix = cosine_similarity(customer_features.drop(\"CustomerID\", axis=1))\n",
    "\n",
    "# Convert similarity matrix to a DataFrame for better handling\n",
    "similarity_df = pd.DataFrame(similarity_matrix, index=customer_features[\"CustomerID\"], columns=customer_features[\"CustomerID\"])\n",
    "\n",
    "# Display similarity matrix (for reference)\n",
    "print(\"Similarity Matrix:\")\n",
    "print(similarity_df.head())"
   ]
  },
  {
   "cell_type": "code",
   "execution_count": null,
   "metadata": {},
   "outputs": [],
   "source": [
    "# Get the first 20 CustomerIDs\n",
    "target_customers = customers.loc[customers[\"CustomerID\"].isin([f\"C{str(i).zfill(4)}\" for i in range(1, 21)]), \"CustomerID\"]\n",
    "\n",
    "# Generate lookalikes for each target customer\n",
    "lookalike_map = {}\n",
    "for customer in target_customers:\n",
    "    similar_customers = similarity_df[customer].sort_values(ascending=False).iloc[1:4]  # Top 3 similar customers (exclude self)\n",
    "    lookalike_map[customer] = list(zip(similar_customers.index, similar_customers.values))\n",
    "\n",
    "# Convert lookalike map to a DataFrame\n",
    "lookalike_data = []\n",
    "for cust_id, lookalikes in lookalike_map.items():\n",
    "    for similar_cust, score in lookalikes:\n",
    "        lookalike_data.append({\"cust_id\": cust_id, \"similar_cust_id\": similar_cust, \"score\": score})\n",
    "\n",
    "lookalike_df = pd.DataFrame(lookalike_data)\n",
    "\n",
    "# Save the result to Lookalike.csv\n",
    "lookalike_df.to_csv(\"Lookalike.csv\", index=False)\n",
    "\n",
    "# Display the Lookalike DataFrame\n",
    "print(\"Lookalike Data:\")\n",
    "print(lookalike_df.head())"
   ]
  }
 ],
 "metadata": {
  "kernelspec": {
   "display_name": "Python 3",
   "language": "python",
   "name": "python3"
  },
  "language_info": {
   "name": "python",
   "version": "3.11.4"
  }
 },
 "nbformat": 4,
 "nbformat_minor": 2
}
