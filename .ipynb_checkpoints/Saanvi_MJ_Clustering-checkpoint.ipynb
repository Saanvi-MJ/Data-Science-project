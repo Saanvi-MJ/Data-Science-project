{
 "cells": [
  {
   "cell_type": "code",
   "execution_count": null,
   "metadata": {},
   "outputs": [],
   "source": [
    "%pip install numpy pandas scikit-learn matplotlib seaborn"
   ]
  },
  {
   "cell_type": "code",
   "execution_count": null,
   "metadata": {},
   "outputs": [],
   "source": [
    "# Import required libraries\n",
    "import pandas as pd\n",
    "import numpy as np\n",
    "from sklearn.cluster import KMeans\n",
    "from sklearn.metrics import davies_bouldin_score\n",
    "from sklearn.preprocessing import StandardScaler\n",
    "import matplotlib.pyplot as plt\n",
    "import seaborn as sns\n"
   ]
  },
  {
   "cell_type": "code",
   "execution_count": null,
   "metadata": {},
   "outputs": [],
   "source": [
    "# Load datasets\n",
    "customers = pd.read_csv(\"Customers.csv\")\n",
    "transactions = pd.read_csv(\"Transactions.csv\")\n",
    "\n",
    "# Merge datasets\n",
    "data = transactions.merge(customers, on=\"CustomerID\", how=\"left\")\n",
    "\n",
    "# Aggregate transaction and profile information for clustering\n",
    "clustering_data = data.groupby(\"CustomerID\").agg({\n",
    "    \"TotalValue\": \"sum\",    # Total spending\n",
    "    \"Quantity\": \"sum\",      # Total quantity purchased\n",
    "    \"TransactionID\": \"count\",  # Number of transactions\n",
    "    \"Region\": \"first\"       # Region\n",
    "}).reset_index()\n",
    "\n",
    "# One-hot encode 'Region'\n",
    "clustering_data = pd.get_dummies(clustering_data, columns=[\"Region\"], drop_first=True)\n",
    "\n",
    "# Standardize numerical features\n",
    "scaler = StandardScaler()\n",
    "numerical_cols = [\"TotalValue\", \"Quantity\", \"TransactionID\"]\n",
    "clustering_data[numerical_cols] = scaler.fit_transform(clustering_data[numerical_cols])\n",
    "\n",
    "# Save CustomerID for later use\n",
    "customer_ids = clustering_data[\"CustomerID\"]\n",
    "clustering_data = clustering_data.drop(\"CustomerID\", axis=1)\n",
    "\n",
    "# Display prepared data\n",
    "print(\"Clustering Data (after preprocessing):\")\n",
    "print(clustering_data.head())"
   ]
  },
  {
   "cell_type": "code",
   "execution_count": null,
   "metadata": {},
   "outputs": [],
   "source": [
    "# Perform KMeans clustering\n",
    "optimal_k = 4  # You can experiment with values between 2 and 10\n",
    "kmeans = KMeans(n_clusters=optimal_k, random_state=42, n_init=10)\n",
    "clustering_data[\"Cluster\"] = kmeans.fit_predict(clustering_data)\n",
    "\n",
    "# Add cluster labels back to the original data\n",
    "clustering_data[\"CustomerID\"] = customer_ids"
   ]
  },
  {
   "cell_type": "code",
   "execution_count": null,
   "metadata": {},
   "outputs": [],
   "source": [
    "# Calculate Davies-Bouldin Index (DB Index)\n",
    "db_index = davies_bouldin_score(clustering_data.drop([\"Cluster\", \"CustomerID\"], axis=1), clustering_data[\"Cluster\"])\n",
    "print(f\"Davies-Bouldin Index (DB Index): {db_index}\")\n",
    "\n",
    "# Optional: Calculate inertia (Sum of Squared Distances)\n",
    "inertia = kmeans.inertia_\n",
    "print(f\"Inertia: {inertia}\")"
   ]
  },
  {
   "cell_type": "code",
   "execution_count": null,
   "metadata": {},
   "outputs": [],
   "source": [
    "# Visualize clusters with pairplots (selecting first 2 features for simplicity)\n",
    "sns.pairplot(clustering_data, hue=\"Cluster\", vars=[\"TotalValue\", \"Quantity\"])\n",
    "plt.title(\"Cluster Visualization\")\n",
    "plt.show()\n",
    "\n",
    "# Visualize the number of customers in each cluster\n",
    "plt.figure(figsize=(8, 6))\n",
    "sns.countplot(x=\"Cluster\", data=clustering_data, palette=\"viridis\")\n",
    "plt.title(\"Customer Count per Cluster\")\n",
    "plt.xlabel(\"Cluster\")\n",
    "plt.ylabel(\"Count\")\n",
    "plt.show()"
   ]
  },
  {
   "cell_type": "code",
   "execution_count": null,
   "metadata": {},
   "outputs": [],
   "source": [
    "# Summarize results for each cluster\n",
    "cluster_summary = clustering_data.groupby(\"Cluster\").agg({\n",
    "    \"TotalValue\": \"mean\",\n",
    "    \"Quantity\": \"mean\",\n",
    "    \"TransactionID\": \"mean\"\n",
    "}).reset_index()\n",
    "\n",
    "print(\"Cluster Summary:\")\n",
    "print(cluster_summary)\n",
    "\n",
    "# Save cluster labels to a CSV file\n",
    "clustering_data[[\"CustomerID\", \"Cluster\"]].to_csv(\"CustomerClusters.csv\", index=False)"
   ]
  }
 ],
 "metadata": {
  "kernelspec": {
   "display_name": "Python 3",
   "language": "python",
   "name": "python3"
  },
  "language_info": {
   "name": "python",
   "version": "3.11.4"
  }
 },
 "nbformat": 4,
 "nbformat_minor": 2
}
